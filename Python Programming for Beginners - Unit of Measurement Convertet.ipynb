{
 "cells": [
  {
   "cell_type": "code",
   "execution_count": 1,
   "id": "f3fabe92",
   "metadata": {},
   "outputs": [
    {
     "name": "stdout",
     "output_type": "stream",
     "text": [
      "Enter Starting Unit of Measurement(inches, feet, yards): inches\n",
      "Enter  Unit of Measurement to Convert to(inches, feet, yards): feet\n",
      "Enter Starting measurement in Inches: 24\n",
      "Enter Starting measurement in Feet: 3\n",
      "Enter Starting measurement in Yards: 1\n"
     ]
    }
   ],
   "source": [
    "convert_from = input(\"Enter Starting Unit of Measurement(inches, feet, yards): \")\n",
    "\n",
    "convert_to = input(\"Enter  Unit of Measurement to Convert to(inches, feet, yards): \")\n",
    "\n",
    "number_of_inches = input(\"Enter Starting measurement in Inches: \")\n",
    "\n",
    "number_of_feet = input(\"Enter Starting measurement in Feet: \")\n",
    "\n",
    "number_of_yards = input(\"Enter Starting measurement in Yards: \")"
   ]
  },
  {
   "cell_type": "code",
   "execution_count": 27,
   "id": "8c99c6af",
   "metadata": {},
   "outputs": [
    {
     "name": "stdout",
     "output_type": "stream",
     "text": [
      "Enter Starting Unit of Measurement (inches, feet, yards): inch\n",
      "Enter  Unit of Measurement to Convert to (inches, feet, yards): feet\n",
      "Enter Starting measurement in Inches: 100\n",
      "Result: 100 Inches = 8.33 Feet\n"
     ]
    }
   ],
   "source": [
    "convert_from = input(\"Enter Starting Unit of Measurement (inches, feet, yards): \")\n",
    "convert_to = input(\"Enter  Unit of Measurement to Convert to (inches, feet, yards): \")\n",
    "\n",
    "# Convert Inches to feet or yards\n",
    "if convert_from.lower() in [\"inches\", \"in\", \"inch\"]:\n",
    "    number_of_inches = int(input(\"Enter Starting measurement in Inches: \"))\n",
    "    if convert_to.lower() in [\"feet\", \"foot\", \"ft\"]:\n",
    "        print(\"Result: \" + str(number_of_inches) + \" Inches = \" + str(round(number_of_inches / 12,2)) + \" Feet\")\n",
    "    elif convert_to.lower() in [\"yards\", \"yards\", \"yds\", \"yd\"]:\n",
    "        print(\"Result: \" + str(number_of_inches) + \" Inches = \" + str(round(number_of_inches / 36,2)) + \" Yards\")\n",
    "    else:\n",
    "        print(\"Please Enter Inches, Feet or Yards\")\n",
    "\n",
    "# Convert Feet to Inches or Yards\n",
    "elif convert_from.lower() in [\"feet\", \"foot\", \"ft\"]:\n",
    "    number_of_feet = int(input(\"Enter Starting measurement in Feet: \"))\n",
    "    if convert_to.lower() in [\"inches\", \"in\", \"inch\"]:\n",
    "        print(\"Result: \" + str(number_of_feet) + \" Feet = \" + str(round(number_of_feet * 12)) + \" Inches\")\n",
    "    elif convert_to.lower() in [\"yards\", \"yards\", \"yds\", \"yd\"]:\n",
    "        print(\"Result: \" + str(number_of_feet) + \" Feet = \" + str(round(number_of_feet / 3,2)) + \" Yards\")\n",
    "    else:\n",
    "        print(\"Please Enter Inches, Feet or Yards\")\n",
    "\n",
    "# Convert Yards to Inches or Feet\n",
    "elif convert_from.lower() in [\"yards\", \"yards\", \"yds\", \"yd\"]:\n",
    "    number_of_yards = int(input(\"Enter Starting measurement in Yards: \"))\n",
    "    if convert_to.lower() in [\"inches\", \"in\", \"inch\"]:\n",
    "        print(\"Result: \" + str(number_of_yards) + \" Yards = \" + str(round(number_of_yards * 36)) + \" Inches\")\n",
    "    elif convert_to.lower() in [\"feet\", \"foot\", \"ft\"]:\n",
    "        print(\"Result: \" + str(number_of_yards) + \" Yards = \" + str(round(number_of_yards * 3)) + \" Feet\")\n",
    "    else:\n",
    "        print(\"Please Enter Inches, Feet or Yards\")\n",
    "        \n",
    "# Else if not output\n",
    "else:\n",
    "    print(\"Please Enter Inches, Feet or Yards\")\n"
   ]
  },
  {
   "cell_type": "code",
   "execution_count": null,
   "id": "b47e0b93",
   "metadata": {},
   "outputs": [],
   "source": []
  },
  {
   "cell_type": "code",
   "execution_count": null,
   "id": "539ad9ff",
   "metadata": {},
   "outputs": [],
   "source": []
  }
 ],
 "metadata": {
  "kernelspec": {
   "display_name": "Python 3 (ipykernel)",
   "language": "python",
   "name": "python3"
  },
  "language_info": {
   "codemirror_mode": {
    "name": "ipython",
    "version": 3
   },
   "file_extension": ".py",
   "mimetype": "text/x-python",
   "name": "python",
   "nbconvert_exporter": "python",
   "pygments_lexer": "ipython3",
   "version": "3.11.5"
  }
 },
 "nbformat": 4,
 "nbformat_minor": 5
}
