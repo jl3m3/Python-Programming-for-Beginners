{
 "cells": [
  {
   "cell_type": "code",
   "execution_count": 3,
   "id": "a2a3616d",
   "metadata": {},
   "outputs": [],
   "source": [
    "def add(x,y):\n",
    "    return x + y\n",
    "\n",
    "def subtract(x,y):\n",
    "    return x - y\n",
    "\n",
    "def multiple(x,y):\n",
    "    return x * y\n",
    "\n",
    "def divide(x,y):\n",
    "    return x / y"
   ]
  },
  {
   "cell_type": "code",
   "execution_count": 4,
   "id": "45609aae",
   "metadata": {},
   "outputs": [
    {
     "name": "stdout",
     "output_type": "stream",
     "text": [
      "Enter 'A' for Addition.\n",
      "Enter 'S' for Subtract.\n",
      "Enter 'M' for Multiple.\n",
      "Enter 'D' for Divide.\n",
      "Enter choice: (A, S, M, D):m\n",
      "Enter first number:365\n",
      "Enter second number:5\n",
      "365.0 * 5.0 = 1825.0\n",
      "Want to do another calculation? (yes/no?):yes\n",
      "Enter choice: (A, S, M, D):d\n",
      "Enter first number:1825\n",
      "Enter second number:365\n",
      "1825.0 / 365.0 = 5.0\n",
      "Want to do another calculation? (yes/no?):no\n"
     ]
    }
   ],
   "source": [
    "print(\"Enter 'A' for Addition.\")\n",
    "print(\"Enter 'S' for Subtract.\")\n",
    "print(\"Enter 'M' for Multiple.\")\n",
    "print(\"Enter 'D' for Divide.\")\n",
    "\n",
    "\n",
    "while True:\n",
    "    choice = input('Enter choice: (A, S, M, D):')\n",
    "    \n",
    "    if choice.upper() in ('A', 'ADD', 'ADDITION', 'S', 'SUBTRACT', 'SUBTRACTION', 'M', 'MULTIPLY', 'MULTIPLICATION', 'D', 'DIVIDE', 'DIVISION'):\n",
    "        num1 = float(input('Enter first number:'))\n",
    "        num2 = float(input('Enter second number:'))\n",
    "\n",
    "        if choice.upper() in ('A', 'ADD', 'ADDITION'):\n",
    "            print(num1, '+', num2, '=', add(num1,num2))\n",
    "\n",
    "        elif choice.upper() in ('S', 'SUBTRACT', 'SUBTRACTION'):\n",
    "            print(num1, '-', num2, '=', subtract(num1,num2))\n",
    "\n",
    "        elif choice.upper() in ('M', 'MULTIPLY', 'MULTIPLICATION'):\n",
    "            print(num1, '*', num2, '=', multiple(num1,num2))\n",
    "\n",
    "        elif choice.upper() in ('D', 'DIVIDE', 'DIVISION'):\n",
    "            print(num1, '/', num2, '=', divide(num1,num2))\n",
    "\n",
    "    else:\n",
    "        print('Please input a correct choice')\n",
    "        \n",
    "    next_calculation = input(\"Want to do another calculation? (yes/no?):\")\n",
    "    if next_calculation.lower() in ('no', 'n','nope'):\n",
    "        break\n",
    "    "
   ]
  },
  {
   "cell_type": "code",
   "execution_count": null,
   "id": "bb26e325",
   "metadata": {},
   "outputs": [],
   "source": []
  }
 ],
 "metadata": {
  "kernelspec": {
   "display_name": "Python 3 (ipykernel)",
   "language": "python",
   "name": "python3"
  },
  "language_info": {
   "codemirror_mode": {
    "name": "ipython",
    "version": 3
   },
   "file_extension": ".py",
   "mimetype": "text/x-python",
   "name": "python",
   "nbconvert_exporter": "python",
   "pygments_lexer": "ipython3",
   "version": "3.11.5"
  }
 },
 "nbformat": 4,
 "nbformat_minor": 5
}
